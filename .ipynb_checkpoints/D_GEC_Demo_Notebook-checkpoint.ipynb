{
 "cells": [
  {
   "cell_type": "code",
   "execution_count": 1,
   "id": "1a8097f1-1eb4-44e0-9efe-fe21db2a9373",
   "metadata": {},
   "outputs": [],
   "source": [
    "# Multi Coil D-GEC demo for fastMRI brain\n",
    "# Compares D-GEC and PnP-PDS\n",
    "# Algorithm and Denoiser is desgined for haar wavelet and level 4 wavelet decomposition\n",
    "\n",
    "import os, sys\n",
    "sys.path.append(os.path.dirname(sys.path[0]))\n",
    "import numpy as np\n",
    "import matplotlib.pyplot as plt\n",
    "import torch\n",
    "import random\n",
    "\n",
    "from utils import general as gutil\n",
    "\n",
    "from algorithms import D_GEC_multi_coil\n",
    "from algorithms import PnP_PDS_multi_coil\n",
    "from algorithms import general_multi_coil\n",
    "from fastMRI_utils import transforms_new\n",
    "from fastMRI_utils.utils_fastMRI import tensor_to_complex_np\n",
    "\n",
    "from scipy.io import savemat\n",
    "from scipy.io import loadmat\n",
    "\n",
    "device = torch.device('cuda:0') if torch.cuda.is_available() else torch.device('cpu')\n",
    "device_cpu = torch.device(\"cpu\")\n",
    "\n",
    "random.seed(10)"
   ]
  },
  {
   "cell_type": "code",
   "execution_count": 2,
   "id": "e810fe3b-3e7c-46d5-b0d0-06a4d3479de6",
   "metadata": {},
   "outputs": [],
   "source": [
    "# DNCNN and DnCNN_cpc Denoisers locations and names\n",
    "modelnames_cpc = ['checkpoint_last_DnCNN_cpc_0_10.pt','checkpoint_last_DnCNN_cpc_10_20.pt', 'checkpoint_last_DnCNN_cpc_20_50.pt', 'checkpoint_last_DnCNN_cpc_50_120.pt', 'checkpoint_last_DnCNN_cpc_120_500.pt']    \n",
    "modeldir_cpc = '/storage/D_GEC_Demo/'\n",
    "model_PnP_PDS = '/storage/D_GEC_Demo/checkpoint_last_DnCNN_0_50.pt'\n",
    "\n",
    "# Data\n",
    "mdic = loadmat(\"/storage/D_GEC_Demo/R_4_VD_SNR_35_data_brain.mat\")\n"
   ]
  },
  {
   "cell_type": "code",
   "execution_count": 4,
   "id": "df1f40c4-9980-4f15-82b4-ac507e41ce9d",
   "metadata": {},
   "outputs": [
    {
     "name": "stdout",
     "output_type": "stream",
     "text": [
      "PSNR D-GEC:  40.79025507720501\n",
      "PSNR PnP-PDS:  40.01435642031464\n",
      "Done!\n"
     ]
    }
   ],
   "source": [
    "# For R = 4, 35 dB SNR\n",
    "image_number = 7\n",
    "\n",
    "num_of_D_GEC_iterations = 10\n",
    "num_of_PnP_PDS_iterations = 50\n",
    "theta_damp = 0.3\n",
    "zeta_damp = 0.3\n",
    "sens_var = torch.tensor(2.5283e-11,device = device) # For R = 4 # noise variance introduced by imperfect sens-map estimation by ESPIRiT # computed this number by taking average over training data\n",
    "gamma_tune = 12\n",
    "\n",
    "\n",
    "y_mat = mdic['y_mat']\n",
    "GT_target_complex_mat = mdic['GT_target_complex_mat']\n",
    "sens_maps_mat = mdic['sens_maps_mat']\n",
    "mask_mat = mdic['mask_mat']\n",
    "prob_map_mat = mdic['prob_map_mat']\n",
    "sigma_w_square_mat = mdic['sigma_w_square_mat']\n",
    "M_mat = mdic['M_mat']\n",
    "N_mat = mdic['N_mat']\n",
    "metric_mask_mat = mdic['metric_mask_mat']\n",
    "GT_target_abs_mat = mdic['GT_target_abs_mat']\n",
    "\n",
    "\n",
    "y_foo = transforms_new.to_tensor(y_mat[image_number]).permute(2,0,1,3)\n",
    "y = (torch.cat((y_foo[:,:,:,0], y_foo[:,:,:,1]), dim = 0).unsqueeze(0)).to(device)\n",
    "GT_target_complex = transforms_new.to_tensor(GT_target_complex_mat[image_number]).permute(2,0,1).unsqueeze(0).to(device)\n",
    "sens_maps_new = transforms_new.to_tensor(sens_maps_mat[image_number]).permute(2,0,1,3).to(device)\n",
    "mask = mask_mat[image_number,:,:]\n",
    "prob_map = prob_map_mat[image_number,:,:]\n",
    "wvar = torch.tensor(sigma_w_square_mat[image_number,0],device=device)\n",
    "M = M_mat[image_number,0]\n",
    "N = N_mat[image_number,0]\n",
    "metric_mask = transforms_new.to_tensor(metric_mask_mat[image_number,:,:]).to(device)\n",
    "GT_target_abs = transforms_new.to_tensor(GT_target_abs_mat[image_number,:,:]).to(device)\n",
    "\n",
    "y = y.type('torch.FloatTensor').to(device)\n",
    "GT_target_complex = GT_target_complex.type('torch.FloatTensor').to(device)\n",
    "sens_maps_new = sens_maps_new.type('torch.FloatTensor').to(device)\n",
    "\n",
    "## DGEC\n",
    "\n",
    "x_D_GEC_denoiser, x_D_GEC_LMMSE, PSNR_list_GEC = D_GEC_multi_coil.D_GEC(y, sens_maps_new, mask, wvar, sens_var, num_of_D_GEC_iterations, modelnames_cpc, modeldir_cpc ,theta_damp,zeta_damp, GT_target_abs, metric_mask)\n",
    "recovered_image_DGEC_1 = transforms_new.complex_abs(x_D_GEC_denoiser.squeeze(0).permute(1,2,0))\n",
    "\n",
    "# PnP-PDS\n",
    "\n",
    "x_PnP_PDS, PSNR_list_PnP_PDS = PnP_PDS_multi_coil.PnP_PDS(y, sens_maps_new, mask, wvar, num_of_PnP_PDS_iterations, model_PnP_PDS, gamma_tune, GT_target_abs, metric_mask)\n",
    "recovered_image_PNP = transforms_new.complex_abs(x_PnP_PDS.squeeze(0).permute(1,2,0))\n",
    "\n",
    "# Metric\n",
    "\n",
    "PSNR_D_GEC_Den = gutil.calc_psnr((recovered_image_DGEC_1*metric_mask).cpu(), (GT_target_abs*metric_mask).cpu(), max = (GT_target_abs*metric_mask).max().cpu())\n",
    "PSNR_PnP_PDS = gutil.calc_psnr((recovered_image_PNP*metric_mask).cpu(), (GT_target_abs*metric_mask).cpu(), max = (GT_target_abs*metric_mask).max().cpu())\n",
    "\n",
    "rSNR_D_GEC_Den = gutil.calc_rSNR_non_DB_scale((recovered_image_DGEC_1*metric_mask).cpu(), (GT_target_abs*metric_mask).cpu())\n",
    "rSNR_PnP_PDS = gutil.calc_rSNR_non_DB_scale((recovered_image_PNP*metric_mask).cpu(), (GT_target_abs*metric_mask).cpu())\n",
    "\n",
    "SSIM_D_GEC_Den = gutil.calc_SSIM((recovered_image_DGEC_1*metric_mask).cpu(), (GT_target_abs*metric_mask).cpu())\n",
    "SSIM_PnP_PDS = gutil.calc_SSIM((recovered_image_PNP*metric_mask).cpu(), (GT_target_abs*metric_mask).cpu())\n",
    "\n",
    "print(\"PSNR D-GEC: \", PSNR_D_GEC_Den)\n",
    "print(\"PSNR PnP-PDS: \", PSNR_PnP_PDS)\n",
    "\n",
    "print('Done!')\n"
   ]
  },
  {
   "cell_type": "code",
   "execution_count": null,
   "id": "25ee1a2a-12e7-43e5-98ae-3d5bb2b43b5d",
   "metadata": {},
   "outputs": [],
   "source": []
  },
  {
   "cell_type": "code",
   "execution_count": null,
   "id": "59937e5e-b9e4-4b52-9f7b-5718dd96bdc9",
   "metadata": {},
   "outputs": [],
   "source": []
  }
 ],
 "metadata": {
  "kernelspec": {
   "display_name": "Python 3",
   "language": "python",
   "name": "python3"
  },
  "language_info": {
   "codemirror_mode": {
    "name": "ipython",
    "version": 3
   },
   "file_extension": ".py",
   "mimetype": "text/x-python",
   "name": "python",
   "nbconvert_exporter": "python",
   "pygments_lexer": "ipython3",
   "version": "3.8.5"
  }
 },
 "nbformat": 4,
 "nbformat_minor": 5
}
