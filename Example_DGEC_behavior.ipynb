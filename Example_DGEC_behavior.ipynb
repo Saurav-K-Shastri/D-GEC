{
 "cells": [
  {
   "cell_type": "code",
   "execution_count": 1,
   "id": "d91d8ad9-a752-4955-b085-4ffff542e89a",
   "metadata": {},
   "outputs": [],
   "source": [
    "# Example D-GEC behavior in multicoil MRI\n",
    "# Uses a slower version of D-GEC\n",
    "# Algorithm and Denoiser is desgined for haar wavelet and level 4 wavelet decomposition\n",
    "\n",
    "import os, sys\n",
    "sys.path.append(os.path.dirname(sys.path[0]))\n",
    "import torch\n",
    "from algorithms import general_multi_coil\n"
   ]
  },
  {
   "cell_type": "code",
   "execution_count": 2,
   "id": "0ca4d823-7ab4-4d89-b83a-bf40825dce30",
   "metadata": {},
   "outputs": [],
   "source": [
    "# Options\n",
    "\n",
    "image_number = 2 # any number from 0-15\n",
    "\n",
    "device = torch.device('cuda:0') if torch.cuda.is_available() else torch.device('cpu')\n",
    "\n",
    "model_dir = '/storage/D_GEC_Demo/' # change this based on where you place the downloaded trained models\n",
    "data_dir = '/storage/D_GEC_Demo/' # change this based on where you place the downloaded data\n"
   ]
  },
  {
   "cell_type": "code",
   "execution_count": null,
   "id": "ad058d1c-b6ac-4733-9d4f-30666dfb1548",
   "metadata": {},
   "outputs": [
    {
     "name": "stdout",
     "output_type": "stream",
     "text": [
      "Image Number :  2\n",
      " \n",
      "running slow version of D-GEC...\n"
     ]
    }
   ],
   "source": [
    "# Demo\n",
    "\n",
    "general_multi_coil.get_DGEC_behavior(image_number,model_dir,data_dir,device)\n"
   ]
  },
  {
   "cell_type": "code",
   "execution_count": null,
   "id": "23a73ba1-ded0-42d1-b121-091383b824a7",
   "metadata": {},
   "outputs": [],
   "source": []
  }
 ],
 "metadata": {
  "kernelspec": {
   "display_name": "Python 3",
   "language": "python",
   "name": "python3"
  },
  "language_info": {
   "codemirror_mode": {
    "name": "ipython",
    "version": 3
   },
   "file_extension": ".py",
   "mimetype": "text/x-python",
   "name": "python",
   "nbconvert_exporter": "python",
   "pygments_lexer": "ipython3",
   "version": "3.8.5"
  }
 },
 "nbformat": 4,
 "nbformat_minor": 5
}
